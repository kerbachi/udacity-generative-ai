{
 "cells": [
  {
   "cell_type": "markdown",
   "id": "3ce95c57",
   "metadata": {},
   "source": [
    "# Codealong Notebook\n",
    "\n",
    "Use this notebook as your \"scratch pad\" as you go through the course contents. Feel free to copy any example code and tweak it to get a better understanding of how it works!\n",
    "\n",
    "Use the **+** button or `Insert` menu to add additional code cells as needed."
   ]
  },
  {
   "cell_type": "markdown",
   "id": "86da1ad2",
   "metadata": {},
   "source": [
    "## Step 1"
   ]
  },
  {
   "cell_type": "markdown",
   "id": "72084745",
   "metadata": {},
   "source": [
    "### Loading the Data with `pandas`"
   ]
  },
  {
   "cell_type": "code",
   "execution_count": 1,
   "id": "7906568a",
   "metadata": {},
   "outputs": [],
   "source": [
    "import pandas as pd"
   ]
  },
  {
   "cell_type": "code",
   "execution_count": 3,
   "id": "a4011316",
   "metadata": {},
   "outputs": [],
   "source": [
    "# Load Wikipedia page\n",
    "tables = pd.read_html('https://en.wikipedia.org/wiki/2023_Turkey%E2%80%93Syria_earthquakes')\n",
    "\n",
    "# Select the first table\n",
    "df = tables[0]"
   ]
  },
  {
   "cell_type": "code",
   "execution_count": 5,
   "id": "f37f65ef",
   "metadata": {},
   "outputs": [
    {
     "name": "stdout",
     "output_type": "stream",
     "text": [
      "                                                   0  \\\n",
      "0  Clockwise from top: Collapsed buildings in Hat...   \n",
      "1  .mw-parser-output .locmap .od{position:absolut...   \n",
      "2                                           UTC time   \n",
      "3                                                NaN   \n",
      "4                                          ISC event   \n",
      "\n",
      "                                                   1  \n",
      "0  Clockwise from top: Collapsed buildings in Hat...  \n",
      "1  .mw-parser-output .locmap .od{position:absolut...  \n",
      "2                                2023-02-06 01:17:35  \n",
      "3                                2023-02-06 10:24:48  \n",
      "4                                          625613033  \n"
     ]
    }
   ],
   "source": [
    "# Print the first 5 rows\n",
    "print(df.head())"
   ]
  },
  {
   "cell_type": "code",
   "execution_count": 6,
   "id": "2a4f9ad9",
   "metadata": {},
   "outputs": [
    {
     "name": "stdout",
     "output_type": "stream",
     "text": [
      "<class 'pandas.core.frame.DataFrame'>\n",
      "RangeIndex: 28 entries, 0 to 27\n",
      "Data columns (total 2 columns):\n",
      " #   Column  Non-Null Count  Dtype \n",
      "---  ------  --------------  ----- \n",
      " 0   0       22 non-null     object\n",
      " 1   1       28 non-null     object\n",
      "dtypes: object(2)\n",
      "memory usage: 576.0+ bytes\n",
      "None\n"
     ]
    }
   ],
   "source": [
    "# Get information about the table\n",
    "print(df.info())\n"
   ]
  },
  {
   "cell_type": "code",
   "execution_count": 7,
   "id": "6e5f7a8c",
   "metadata": {},
   "outputs": [
    {
     "name": "stdout",
     "output_type": "stream",
     "text": [
      "                                                        0       1\n",
      "count                                                  22      28\n",
      "unique                                                 22      27\n",
      "top     Clockwise from top: Collapsed buildings in Hat...  ComCat\n",
      "freq                                                    1       2\n"
     ]
    }
   ],
   "source": [
    "# Describe the table's statistics\n",
    "print(df.describe())"
   ]
  },
  {
   "cell_type": "markdown",
   "id": "7eff2773",
   "metadata": {},
   "source": [
    "### Creating an Embeddings Index with `openai.Embedding`"
   ]
  },
  {
   "cell_type": "code",
   "execution_count": null,
   "id": "c3c6f74b",
   "metadata": {},
   "outputs": [],
   "source": []
  },
  {
   "cell_type": "code",
   "execution_count": null,
   "id": "72b7f51e",
   "metadata": {},
   "outputs": [],
   "source": []
  },
  {
   "cell_type": "code",
   "execution_count": null,
   "id": "8d5405d9",
   "metadata": {},
   "outputs": [],
   "source": []
  },
  {
   "cell_type": "markdown",
   "id": "bd7b7331",
   "metadata": {},
   "source": [
    "## Step 2"
   ]
  },
  {
   "cell_type": "markdown",
   "id": "2152dad6",
   "metadata": {},
   "source": [
    "### Finding Relevant Data with Cosine Similarity"
   ]
  },
  {
   "cell_type": "code",
   "execution_count": null,
   "id": "8dbd7bdf",
   "metadata": {},
   "outputs": [],
   "source": []
  },
  {
   "cell_type": "code",
   "execution_count": null,
   "id": "581fc320",
   "metadata": {},
   "outputs": [],
   "source": []
  },
  {
   "cell_type": "code",
   "execution_count": null,
   "id": "bec62d71",
   "metadata": {},
   "outputs": [],
   "source": []
  },
  {
   "cell_type": "markdown",
   "id": "699486f6",
   "metadata": {},
   "source": [
    "## Step 3"
   ]
  },
  {
   "cell_type": "markdown",
   "id": "6e3716d6",
   "metadata": {},
   "source": [
    "### Tokenizing with `tiktoken`"
   ]
  },
  {
   "cell_type": "code",
   "execution_count": null,
   "id": "e969fa22",
   "metadata": {},
   "outputs": [],
   "source": []
  },
  {
   "cell_type": "code",
   "execution_count": null,
   "id": "ab51ffec",
   "metadata": {},
   "outputs": [],
   "source": []
  },
  {
   "cell_type": "code",
   "execution_count": null,
   "id": "f0888179",
   "metadata": {},
   "outputs": [],
   "source": []
  },
  {
   "cell_type": "markdown",
   "id": "a65d6d19",
   "metadata": {},
   "source": [
    "### Composing a Custom Text Prompt"
   ]
  },
  {
   "cell_type": "code",
   "execution_count": null,
   "id": "c9c35486",
   "metadata": {},
   "outputs": [],
   "source": []
  },
  {
   "cell_type": "code",
   "execution_count": null,
   "id": "d86f7502",
   "metadata": {},
   "outputs": [],
   "source": []
  },
  {
   "cell_type": "code",
   "execution_count": null,
   "id": "99c482c5",
   "metadata": {},
   "outputs": [],
   "source": []
  },
  {
   "cell_type": "markdown",
   "id": "d8b8f5dd",
   "metadata": {},
   "source": [
    "## Step 4"
   ]
  },
  {
   "cell_type": "markdown",
   "id": "495a549a",
   "metadata": {},
   "source": [
    "### Getting a Custom Q&A Response with `openai.Completion`"
   ]
  },
  {
   "cell_type": "code",
   "execution_count": null,
   "id": "3913334c",
   "metadata": {},
   "outputs": [],
   "source": []
  },
  {
   "cell_type": "code",
   "execution_count": null,
   "id": "626eb389",
   "metadata": {},
   "outputs": [],
   "source": []
  },
  {
   "cell_type": "code",
   "execution_count": null,
   "id": "d8e3d0e8",
   "metadata": {},
   "outputs": [],
   "source": []
  }
 ],
 "metadata": {
  "kernelspec": {
   "display_name": "Python 3 (ipykernel)",
   "language": "python",
   "name": "python3"
  },
  "language_info": {
   "codemirror_mode": {
    "name": "ipython",
    "version": 3
   },
   "file_extension": ".py",
   "mimetype": "text/x-python",
   "name": "python",
   "nbconvert_exporter": "python",
   "pygments_lexer": "ipython3",
   "version": "3.9.18"
  }
 },
 "nbformat": 4,
 "nbformat_minor": 5
}
